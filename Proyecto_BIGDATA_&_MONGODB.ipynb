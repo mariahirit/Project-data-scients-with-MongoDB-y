{
  "cells": [
    {
      "cell_type": "markdown",
      "metadata": {
        "id": "view-in-github",
        "colab_type": "text"
      },
      "source": [
        "<a href=\"https://colab.research.google.com/github/mariahirit/Project-data-scients-with-MongoDB-y/blob/master/Proyecto_BIGDATA_%26_MONGODB.ipynb\" target=\"_parent\"><img src=\"https://colab.research.google.com/assets/colab-badge.svg\" alt=\"Open In Colab\"/></a>"
      ]
    },
    {
      "cell_type": "markdown",
      "metadata": {
        "id": "1cnbbDyMKZ3Q"
      },
      "source": [
        "Importar Librerias"
      ]
    },
    {
      "cell_type": "code",
      "execution_count": 1,
      "metadata": {
        "id": "2I_FhsaNGSNO"
      },
      "outputs": [],
      "source": [
        "import pymongo\n",
        "from pymongo import MongoClient"
      ]
    },
    {
      "cell_type": "code",
      "source": [
        "databases = pymongo.MongoClient()\n"
      ],
      "metadata": {
        "id": "eqlxIvztWaNf"
      },
      "execution_count": 2,
      "outputs": []
    },
    {
      "cell_type": "code",
      "source": [
        "admin_db = databases.admin"
      ],
      "metadata": {
        "id": "0bObR8dyaS5O"
      },
      "execution_count": 3,
      "outputs": []
    },
    {
      "cell_type": "code",
      "source": [
        "tutorial_collection = admin_db.Tutorial"
      ],
      "metadata": {
        "id": "KMZiGHHS832d"
      },
      "execution_count": 4,
      "outputs": []
    },
    {
      "cell_type": "code",
      "source": [
        "tutorial_collection.find({})"
      ],
      "metadata": {
        "colab": {
          "base_uri": "https://localhost:8080/"
        },
        "id": "uD6ysW63-P67",
        "outputId": "b48d65f7-7245-44a4-e4ae-a40c97ae6697"
      },
      "execution_count": 6,
      "outputs": [
        {
          "output_type": "execute_result",
          "data": {
            "text/plain": [
              "<pymongo.cursor.Cursor at 0x7f3707723d90>"
            ]
          },
          "metadata": {},
          "execution_count": 6
        }
      ]
    },
    {
      "cell_type": "code",
      "source": [
        "tutorial_collection.find_one({})"
      ],
      "metadata": {
        "id": "YWQqNXXv8_Kk"
      },
      "execution_count": null,
      "outputs": []
    },
    {
      "cell_type": "code",
      "source": [
        "list(tutorial_collection.find({}))"
      ],
      "metadata": {
        "id": "3O7WMS4-8_BD"
      },
      "execution_count": null,
      "outputs": []
    },
    {
      "cell_type": "code",
      "source": [
        "import pandas as pd\n",
        "cal_df = pd.DataFrame(list(tutorial_collection.find({})))\n",
        "cal_df"
      ],
      "metadata": {
        "id": "_mLlZFTk9K9B"
      },
      "execution_count": null,
      "outputs": []
    }
  ],
  "metadata": {
    "colab": {
      "name": "Proyecto BIGDATA & MONGODB.ipynb",
      "provenance": [],
      "authorship_tag": "ABX9TyNB3PnLLsoT4QEiw8X3gUPB",
      "include_colab_link": true
    },
    "kernelspec": {
      "display_name": "Python 3",
      "name": "python3"
    },
    "language_info": {
      "name": "python"
    }
  },
  "nbformat": 4,
  "nbformat_minor": 0
}